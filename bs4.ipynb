{
 "cells": [
  {
   "cell_type": "code",
   "execution_count": 105,
   "metadata": {
    "collapsed": true
   },
   "outputs": [],
   "source": [
    "import requests\n",
    "from bs4 import BeautifulSoup as bs4"
   ]
  },
  {
   "cell_type": "code",
   "execution_count": 106,
   "metadata": {
    "collapsed": false
   },
   "outputs": [],
   "source": [
    "resp = requests.get(\n",
    "    url = \"https://sfbay.craigslist.org/sfc/apa\")"
   ]
  },
  {
   "cell_type": "code",
   "execution_count": 107,
   "metadata": {
    "collapsed": false
   },
   "outputs": [
    {
     "data": {
      "text/plain": [
       "'https://sfbay.craigslist.org/search/sfc/apa'"
      ]
     },
     "execution_count": 107,
     "metadata": {},
     "output_type": "execute_result"
    }
   ],
   "source": [
    "resp.url"
   ]
  },
  {
   "cell_type": "code",
   "execution_count": 108,
   "metadata": {
    "collapsed": true
   },
   "outputs": [],
   "source": [
    "html = bs4(resp.text, \"html.parser\")"
   ]
  },
  {
   "cell_type": "code",
   "execution_count": 109,
   "metadata": {
    "collapsed": false
   },
   "outputs": [
    {
     "name": "stdout",
     "output_type": "stream",
     "text": [
      "﻿\n",
      "<!DOCTYPE html>\n",
      "<html class=\"no-js\">\n",
      " <head>\n",
      "  <title>\n",
      "   SF bay area apartments / housing rentals  - craigslist\n",
      "  </title>\n",
      "  <meta content=\"SF bay area apartments / housing rentals  - craigslist\" name=\"description\">\n",
      "   <meta content=\"IE=Edge\" http-equiv=\"X-UA-Compatible\"/>\n",
      "   <link href=\"https://sfbay.craigslist.org/search/sfc/apa\" rel=\"canonical\">\n",
      "    <link href=\"https://sfbay.craigslist.org/search/sfc/apa?format=rss\" rel=\"alternate\" title=\"RSS feed for craigslist | SF bay area apartments / housing rentals  - craigslist \" type=\"application/rss+xml\">\n",
      "     <link href=\"https://sfbay.craigslist.org/search/sfc/apa?s=100\" rel=\"next\">\n",
      "      <meta content=\"width=device-width,initial-scale=1\" name=\"viewport\">\n",
      "       <link href=\"//www.craigslist.org/styles/cl.css?v=8bdb0cf3d743129c14696bf6f621f16f\" media=\"all\" rel=\"stylesheet\" type=\"text/css\">\n",
      "        <link href=\"//www.craigslist.org/styles/search.css?v=af75b8cc1e45fb421a5858821aadf330\" media=\"all\" rel=\"stylesheet\" type=\"text/css\">\n",
      "         <link href=\"//www.craigslist.org/styles/jquery-ui-clcustom.css?v=31607a98a2cb3fba2c70e3e66ecb4440\" media=\"all\" rel=\"stylesheet\" type=\"text/css\">\n",
      "          <link href=\"//www.craigslist.org/js/postings-concat.min.js?v=c153d4d48750579b87c5ce52aee3ccf8\" rel=\"prefetch\">\n",
      "           <link href=\"//www.craigslist.org/styles/leaflet.css?v=52966d0fad2afe8dd918e5f48abb0db3\" media=\"all\" rel=\"stylesheet\" type=\"text/css\">\n",
      "            <link href=\"//www.craigslist.org/styles/MarkerCluster.css?v=c9937ed03fbb57f185493cd8c283efeb\" media=\"all\" rel=\"stylesheet\" type=\"text/css\">\n",
      "             <link href=\"//www.craigslist.org/styles/tocsmaps.css?v=e1c93c9e4b8d31fc183c0dff0c70e0b7\" media=\"all\" rel=\"stylesheet\" type=\"text/css\">\n",
      "              <!--[if IE]>\n",
      "    <link type=\"text/css\" rel=\"stylesheet\" media=\"all\" href=\"//www.craigslist.org/styles/tocsmaps-ie.css?v=b21742b2ebe243963373e956ea115db0\">\n",
      "<![endif]-->\n",
      "              <script type=\"text/javascript\">\n",
      "               <!--\n",
      "var areaCountry = \"US\";\n",
      "var areaID = \"1\";\n",
      "var areaRegion = \"CA\";\n",
      "var catAbb = \"apa\";\n",
      "var countOfTotalText = \"image {count} of {total}\";\n",
      "var currencySymbol = \"&#x0024;\";\n",
      "var defaultView = \"grid\";\n",
      "var expiredFavIDs = null;\n",
      "var imageHost = \"https://images.craigslist.org\";\n",
      "var lessInfoText = \"less info\";\n",
      "var maptileBaseUrl = \"//map{s}.craigslist.org/t09/{z}/{x}/{y}.png\";\n",
      "var maxResults = 2500;\n",
      "var noImageText = \"no image\";\n",
      "var pID = null;\n",
      "var purveyorCategories = null;\n",
      "var sectionAbb = \"hhh\";\n",
      "var sectionBase = \"hhh\";\n",
      "var showInfoText = \"show info\";\n",
      "var showMapTabs = 1;\n",
      "var showingBanished = 0;\n",
      "var showingFavorites = 0;\n",
      "var starHint = \"save this post in your favorites list\";\n",
      "var subarea = \"sfc\";\n",
      "var zoomToPosting = null;\n",
      "-->\n",
      "              </script>\n",
      "              <!--[if lt IE 9]>\n",
      "<script src=\"//www.craigslist.org/js/html5shiv.min.js?v=096822b653643ed1af3136947e4ea79a\" type=\"text/javascript\" ></script>\n",
      "\n",
      "<script src=\"//www.craigslist.org/js/respond-fork.min.js?v=d7e1cb0d97ee0c0c9d84a7d4f1d03469\" type=\"text/javascript\" ></script>\n",
      "\n",
      "<![endif]-->\n",
      "              <!--[if lte IE 7]>\n",
      "<script src=\"//www.craigslist.org/js/json2.min.js?v=178d4ad319e0e0b4a451b15e49b71bec\" type=\"text/javascript\" ></script>\n",
      "\n",
      "<![endif]-->\n",
      "             </link>\n",
      "            </link>\n",
      "           </link>\n",
      "          </link>\n",
      "         </link>\n",
      "        </link>\n",
      "       </link>\n",
      "      </meta>\n",
      "     </link>\n",
      "    </link>\n",
      "   </link>\n",
      "  </meta>\n",
      " </head>\n",
      " <body class=\"search en\">\n",
      "  <script type=\"text/javascript\">\n",
      "   <!--\n",
      "    function C(k){return(document.cookie.match('(^|; )'+k+'=([^;]*)')||0)[2]}\n",
      "    var pagetype, pagemode;\n",
      "    (function(){\n",
      "        var h = document.documentElement;\n",
      "        h.className = h.className.replace('no-js', 'js');\n",
      "        var b = document.body;\n",
      "        var bodyClassList = b.className.split(/\\s+/);;\n",
      "        pagetype = bodyClassList[0]; // dangerous assumption\n",
      "        var fmt = C('cl_fmt');\n",
      "        if ( fmt === 'regular' || fmt === 'mobile' ) {\n",
      "            pagemode = fmt;\n",
      "        } else if (screen.width <= 480) {\n",
      "            pagemode = 'mobile';\n",
      "        } else {\n",
      "            pagemode = 'regular';\n",
      "        }\n",
      "        pagemode = pagemode === 'mobile' ? 'mobile' : 'desktop';\n",
      "        bodyClassList.push(pagemode);\n",
      "        if (C('hidesearch') === '1' && pagemode !== 'mobile') {\n",
      "            bodyClassList.push('hide-search');\n",
      "        }\n",
      "        var width = window.innerWidth || document.documentElement.clientWidth;\n",
      "        if (width > 1000) { bodyClassList.push('w1024'); }\n",
      "        if (typeof window.sectionBase !== 'undefined') {\n",
      "            var mode = (decodeURIComponent(C('cl_tocmode') || '').match(new RegExp(window.sectionBase + ':([^,]+)', 'i')) || {})[1] || window.defaultView;\n",
      "            if (mode) {\n",
      "                bodyClassList.push(mode);\n",
      "            }\n",
      "        }\n",
      "        b.className = bodyClassList.join(' ');\n",
      "    }());\n",
      "-->\n",
      "  </script>\n",
      "  <section id=\"pagecontainer\">\n",
      "   <div class=\"bglogo\">\n",
      "   </div>\n",
      "   <header class=\"global-header\">\n",
      "    <a class=\"header-logo\" href=\"/\">\n",
      "     CL\n",
      "    </a>\n",
      "    <nav class=\"breadcrumbs-container\">\n",
      "     <form action=\"/search/sfc/apa\" class=\"breadcrumbs-form\" data-action=\"/search/###/apa\" id=\"breadcrumbform\" method=\"get\">\n",
      "      <ul class=\"breadcrumbs hasSubareas\">\n",
      "       <li class=\"crumb area\">\n",
      "        <span class=\"no-js\">\n",
      "         <a href=\"/\">\n",
      "          SF bay area\n",
      "         </a>\n",
      "        </span>\n",
      "        <select class=\"js-only\" id=\"areaAbb\" name=\"areaAbb\">\n",
      "         <option value=\"sfbay\">\n",
      "          SF bay area\n",
      "         </option>\n",
      "         <option value=\"bakersfield\">\n",
      "          bakersfield\n",
      "         </option>\n",
      "         <option value=\"chico\">\n",
      "          chico\n",
      "         </option>\n",
      "         <option value=\"fresno\">\n",
      "          fresno\n",
      "         </option>\n",
      "         <option value=\"goldcountry\">\n",
      "          gold country\n",
      "         </option>\n",
      "         <option value=\"hanford\">\n",
      "          hanford\n",
      "         </option>\n",
      "         <option value=\"mendocino\">\n",
      "          mendocino co\n",
      "         </option>\n",
      "         <option value=\"merced\">\n",
      "          merced\n",
      "         </option>\n",
      "         <option value=\"modesto\">\n",
      "          modesto\n",
      "         </option>\n",
      "         <option value=\"monterey\">\n",
      "          monterey\n",
      "         </option>\n",
      "         <option value=\"redding\">\n",
      "          redding\n",
      "         </option>\n",
      "         <option value=\"reno\">\n",
      "          reno\n",
      "         </option>\n",
      "         <option value=\"sacramento\">\n",
      "          sacramento\n",
      "         </option>\n",
      "         <option value=\"slo\">\n",
      "          san luis obispo\n",
      "         </option>\n",
      "         <option value=\"santamaria\">\n",
      "          santa maria\n",
      "         </option>\n",
      "         <option value=\"stockton\">\n",
      "          stockton\n",
      "         </option>\n",
      "         <option value=\"susanville\">\n",
      "          susanville\n",
      "         </option>\n",
      "         <option value=\"visalia\">\n",
      "          visalia-tulare\n",
      "         </option>\n",
      "         <option value=\"yubasutter\">\n",
      "          yuba-sutter\n",
      "         </option>\n",
      "        </select>\n",
      "        <span class=\"breadcrumb-arrow\">\n",
      "         &gt;\n",
      "        </span>\n",
      "       </li>\n",
      "       <li class=\"crumb subarea\">\n",
      "        <select id=\"subArea\" name=\"subArea\">\n",
      "         <option value=\"\">\n",
      "          all SF bay area\n",
      "         </option>\n",
      "         <option value=\"eby\">\n",
      "          east bay\n",
      "         </option>\n",
      "         <option value=\"nby\">\n",
      "          north bay\n",
      "         </option>\n",
      "         <option value=\"pen\">\n",
      "          peninsula\n",
      "         </option>\n",
      "         <option selected=\"\" value=\"sfc\">\n",
      "          san francisco\n",
      "         </option>\n",
      "         <option value=\"scz\">\n",
      "          santa cruz\n",
      "         </option>\n",
      "         <option value=\"sby\">\n",
      "          south bay\n",
      "         </option>\n",
      "        </select>\n",
      "        <span class=\"breadcrumb-arrow\">\n",
      "         &gt;\n",
      "        </span>\n",
      "       </li>\n",
      "       <li class=\"crumb section\">\n",
      "        <select id=\"catAbb\" name=\"catAbb\">\n",
      "         <option value=\"ccc\">\n",
      "          community\n",
      "         </option>\n",
      "         <option value=\"eee\">\n",
      "          events\n",
      "         </option>\n",
      "         <option value=\"sss\">\n",
      "          for sale\n",
      "         </option>\n",
      "         <option value=\"ggg\">\n",
      "          gigs\n",
      "         </option>\n",
      "         <option selected=\"\" value=\"hhh\">\n",
      "          housing\n",
      "         </option>\n",
      "         <option value=\"jjj\">\n",
      "          jobs\n",
      "         </option>\n",
      "         <option value=\"ppp\">\n",
      "          personals\n",
      "         </option>\n",
      "         <option value=\"rrr\">\n",
      "          resumes\n",
      "         </option>\n",
      "         <option value=\"bbb\">\n",
      "          services\n",
      "         </option>\n",
      "        </select>\n",
      "        <span class=\"breadcrumb-arrow\">\n",
      "         &gt;\n",
      "        </span>\n",
      "       </li>\n",
      "       <li class=\"crumb category\">\n",
      "        <select class=\"js-only\" id=\"subcatAbb\">\n",
      "         <option value=\"hhh\">\n",
      "          all\n",
      "         </option>\n",
      "         <option value=\"hou\">\n",
      "          apts wanted\n",
      "         </option>\n",
      "         <option selected=\"\" value=\"apa\">\n",
      "          apts/housing for rent\n",
      "         </option>\n",
      "         <option value=\"swp\">\n",
      "          housing swap\n",
      "         </option>\n",
      "         <option value=\"off\">\n",
      "          office &amp; commercial\n",
      "         </option>\n",
      "         <option value=\"prk\">\n",
      "          parking &amp; storage\n",
      "         </option>\n",
      "         <option value=\"reb\">\n",
      "          real estate - by broker\n",
      "         </option>\n",
      "         <option value=\"reo\">\n",
      "          real estate - by owner\n",
      "         </option>\n",
      "         <option value=\"rew\">\n",
      "          real estate wanted\n",
      "         </option>\n",
      "         <option value=\"roo\">\n",
      "          rooms &amp; shares\n",
      "         </option>\n",
      "         <option value=\"sha\">\n",
      "          rooms wanted\n",
      "         </option>\n",
      "         <option value=\"sbw\">\n",
      "          sublet/temp wanted\n",
      "         </option>\n",
      "         <option value=\"sub\">\n",
      "          sublets &amp; temporary\n",
      "         </option>\n",
      "         <option value=\"vac\">\n",
      "          vacation rentals\n",
      "         </option>\n",
      "        </select>\n",
      "        <span class=\"no-js\">\n",
      "         apts/housing for rent\n",
      "        </span>\n",
      "        <span class=\"breadcrumb-arrow\">\n",
      "         &gt;\n",
      "        </span>\n",
      "       </li>\n",
      "       <li class=\"crumb no-js\">\n",
      "        <input type=\"submit\" value=\"go\">\n",
      "        </input>\n",
      "       </li>\n",
      "      </ul>\n",
      "     </form>\n",
      "    </nav>\n",
      "    <div class=\"userlinks\">\n",
      "     <ul class=\"user-actions\">\n",
      "      <li class=\"user post\">\n",
      "       <a href=\"https://post.craigslist.org/c/sfo\">\n",
      "        post\n",
      "       </a>\n",
      "      </li>\n",
      "\n"
     ]
    }
   ],
   "source": [
    "print(html.prettify()[:10000])"
   ]
  },
  {
   "cell_type": "code",
   "execution_count": 110,
   "metadata": {
    "collapsed": false
   },
   "outputs": [],
   "source": [
    "apts = html.findAll(\"p\", attrs = {\"class\":\"row\"})"
   ]
  },
  {
   "cell_type": "code",
   "execution_count": 111,
   "metadata": {
    "collapsed": false
   },
   "outputs": [
    {
     "data": {
      "text/plain": [
       "100"
      ]
     },
     "execution_count": 111,
     "metadata": {},
     "output_type": "execute_result"
    }
   ],
   "source": [
    "len(apts)"
   ]
  },
  {
   "cell_type": "code",
   "execution_count": 112,
   "metadata": {
    "collapsed": false
   },
   "outputs": [],
   "source": [
    "one_apt = apts[1]"
   ]
  },
  {
   "cell_type": "code",
   "execution_count": 37,
   "metadata": {
    "collapsed": false
   },
   "outputs": [
    {
     "name": "stdout",
     "output_type": "stream",
     "text": [
      "<p class=\"row\" data-pid=\"5770748709\">\n",
      " <a class=\"i gallery\" data-ids=\"1:00y0y_1gme0IX5GFA,1:00A0A_5t6x5jlPZMA,1:00b0b_glRaZfI3JPX,1:00q0q_gLg9JSF3XVo,1:00Y0Y_hIioQeIN0xx,1:00t0t_l7uu1udY4D9,1:00R0R_lNi6Cnu4fxI,1:00E0E_6HWm1yvrqXg,1:00505_jleMHTZfnch\" href=\"/sfc/apa/5770748709.html\">\n",
      " </a>\n",
      " <span class=\"txt\">\n",
      "  <span class=\"pl\">\n",
      "   <span class=\"icon icon-star\" role=\"button\">\n",
      "    <span class=\"screen-reader-text\">\n",
      "     favorite this post\n",
      "    </span>\n",
      "   </span>\n",
      "   <time datetime=\"2016-09-07 12:20\" title=\"Wed 07 Sep 12:20:07 PM\">\n",
      "    Sep  7\n",
      "   </time>\n",
      "   <a class=\"hdrlnk\" data-id=\"5770748709\" href=\"/sfc/apa/5770748709.html\">\n",
      "    Great Location 2BD, 2 1/2 BA condo with private patio\n",
      "   </a>\n",
      "  </span>\n",
      "  <span class=\"l2\">\n",
      "   <span class=\"price\">\n",
      "    $4950\n",
      "   </span>\n",
      "   <span class=\"housing\">\n",
      "    2br -\n",
      "                1274ft\n",
      "    <sup>\n",
      "     2\n",
      "    </sup>\n",
      "    -\n",
      "   </span>\n",
      "   <span class=\"pnr\">\n",
      "    <small>\n",
      "     (russian hill)\n",
      "    </small>\n",
      "    <span class=\"px\">\n",
      "     <span class=\"p\">\n",
      "      pic\n",
      "      <span class=\"maptag\" data-pid=\"5770748709\">\n",
      "       map\n",
      "      </span>\n",
      "     </span>\n",
      "    </span>\n",
      "   </span>\n",
      "  </span>\n",
      "  <span class=\"js-only banish-unbanish\">\n",
      "   <span class=\"banish\" title=\"hide\">\n",
      "    <span class=\"icon icon-trash\" role=\"button\">\n",
      "    </span>\n",
      "    <span class=\"screen-reader-text\">\n",
      "     hide this posting\n",
      "    </span>\n",
      "   </span>\n",
      "   <span class=\"unbanish\" title=\"restore\">\n",
      "    <span class=\"icon icon-trash red\" role=\"button\">\n",
      "    </span>\n",
      "    <span class=\"screen-reader-text\">\n",
      "     restore this posting\n",
      "    </span>\n",
      "   </span>\n",
      "  </span>\n",
      " </span>\n",
      "</p>\n",
      "\n"
     ]
    }
   ],
   "source": [
    "print(one_apt.prettify())"
   ]
  },
  {
   "cell_type": "code",
   "execution_count": 183,
   "metadata": {
    "collapsed": false
   },
   "outputs": [],
   "source": [
    "apt_info = one_apt.find(\"span\", attrs={\"class\":\"housing\"})"
   ]
  },
  {
   "cell_type": "code",
   "execution_count": 184,
   "metadata": {
    "collapsed": false
   },
   "outputs": [
    {
     "data": {
      "text/plain": [
       "<span class=\"housing\">\n",
       "                2br -\n",
       "                850ft<sup>2</sup> -\n",
       "            </span>"
      ]
     },
     "execution_count": 184,
     "metadata": {},
     "output_type": "execute_result"
    }
   ],
   "source": [
    "apt_info"
   ]
  },
  {
   "cell_type": "code",
   "execution_count": 185,
   "metadata": {
    "collapsed": false
   },
   "outputs": [
    {
     "data": {
      "text/plain": [
       "'\\n                2br -\\n                850ft2 -\\n            '"
      ]
     },
     "execution_count": 185,
     "metadata": {},
     "output_type": "execute_result"
    }
   ],
   "source": [
    "apt_info.text"
   ]
  },
  {
   "cell_type": "code",
   "execution_count": 187,
   "metadata": {
    "collapsed": false
   },
   "outputs": [
    {
     "data": {
      "text/plain": [
       "['2br', '850ft2']"
      ]
     },
     "execution_count": 187,
     "metadata": {},
     "output_type": "execute_result"
    }
   ],
   "source": [
    "apt_info.text.replace(\"\\n\", \"\").replace(\"-\",\"\").split()"
   ]
  },
  {
   "cell_type": "code",
   "execution_count": 84,
   "metadata": {
    "collapsed": false
   },
   "outputs": [
    {
     "data": {
      "text/plain": [
       "<time datetime=\"2016-09-07 12:20\" title=\"Wed 07 Sep 12:20:07 PM\">Sep  7</time>"
      ]
     },
     "execution_count": 84,
     "metadata": {},
     "output_type": "execute_result"
    }
   ],
   "source": [
    "one_apt.find(\"time\")"
   ]
  },
  {
   "cell_type": "code",
   "execution_count": 85,
   "metadata": {
    "collapsed": false
   },
   "outputs": [
    {
     "data": {
      "text/plain": [
       "'2016-09-07 12:20'"
      ]
     },
     "execution_count": 85,
     "metadata": {},
     "output_type": "execute_result"
    }
   ],
   "source": [
    "one_apt.find(\"time\")[\"datetime\"]"
   ]
  },
  {
   "cell_type": "code",
   "execution_count": 86,
   "metadata": {
    "collapsed": false
   },
   "outputs": [
    {
     "data": {
      "text/plain": [
       "'5770748709'"
      ]
     },
     "execution_count": 86,
     "metadata": {},
     "output_type": "execute_result"
    }
   ],
   "source": [
    "one_apt.find(\"a\", attrs={\"class\":\"hdrlnk\"})[\"data-id\"]"
   ]
  },
  {
   "cell_type": "markdown",
   "metadata": {},
   "source": [
    "Maybe we should do the string stuff at the pandas level?"
   ]
  },
  {
   "cell_type": "code",
   "execution_count": 113,
   "metadata": {
    "collapsed": false
   },
   "outputs": [],
   "source": [
    "dates = [one_apt.find(\"time\")[\"datetime\"] for one_apt in apts]"
   ]
  },
  {
   "cell_type": "code",
   "execution_count": 115,
   "metadata": {
    "collapsed": false
   },
   "outputs": [],
   "source": [
    "ids = [one_apt.find(\"a\", attrs={\"class\":\"hdrlnk\"})[\"data-id\"] for one_apt in apts]"
   ]
  },
  {
   "cell_type": "code",
   "execution_count": 127,
   "metadata": {
    "collapsed": false
   },
   "outputs": [
    {
     "ename": "AttributeError",
     "evalue": "'NoneType' object has no attribute 'text'",
     "output_type": "error",
     "traceback": [
      "\u001b[0;31m---------------------------------------------------------------------------\u001b[0m",
      "\u001b[0;31mAttributeError\u001b[0m                            Traceback (most recent call last)",
      "\u001b[0;32m<ipython-input-127-a9a2d9010382>\u001b[0m in \u001b[0;36m<module>\u001b[0;34m()\u001b[0m\n\u001b[0;32m----> 1\u001b[0;31m \u001b[0minfo\u001b[0m \u001b[0;34m=\u001b[0m \u001b[0;34m[\u001b[0m\u001b[0mone_apt\u001b[0m\u001b[0;34m.\u001b[0m\u001b[0mfind\u001b[0m\u001b[0;34m(\u001b[0m\u001b[0;34m\"span\"\u001b[0m\u001b[0;34m,\u001b[0m \u001b[0mattrs\u001b[0m\u001b[0;34m=\u001b[0m\u001b[0;34m{\u001b[0m\u001b[0;34m\"class\"\u001b[0m\u001b[0;34m:\u001b[0m\u001b[0;34m\"housing\"\u001b[0m\u001b[0;34m}\u001b[0m\u001b[0;34m)\u001b[0m\u001b[0;34m.\u001b[0m\u001b[0mtext\u001b[0m \u001b[0;32mfor\u001b[0m \u001b[0mone_apt\u001b[0m \u001b[0;32min\u001b[0m \u001b[0mapts\u001b[0m\u001b[0;34m[\u001b[0m\u001b[0;34m:\u001b[0m\u001b[0;36m10\u001b[0m\u001b[0;34m]\u001b[0m \u001b[0;32mif\u001b[0m \u001b[0mone_apt\u001b[0m \u001b[0;34m!=\u001b[0m \u001b[0;32mNone\u001b[0m\u001b[0;34m]\u001b[0m\u001b[0;34m\u001b[0m\u001b[0m\n\u001b[0m",
      "\u001b[0;32m<ipython-input-127-a9a2d9010382>\u001b[0m in \u001b[0;36m<listcomp>\u001b[0;34m(.0)\u001b[0m\n\u001b[0;32m----> 1\u001b[0;31m \u001b[0minfo\u001b[0m \u001b[0;34m=\u001b[0m \u001b[0;34m[\u001b[0m\u001b[0mone_apt\u001b[0m\u001b[0;34m.\u001b[0m\u001b[0mfind\u001b[0m\u001b[0;34m(\u001b[0m\u001b[0;34m\"span\"\u001b[0m\u001b[0;34m,\u001b[0m \u001b[0mattrs\u001b[0m\u001b[0;34m=\u001b[0m\u001b[0;34m{\u001b[0m\u001b[0;34m\"class\"\u001b[0m\u001b[0;34m:\u001b[0m\u001b[0;34m\"housing\"\u001b[0m\u001b[0;34m}\u001b[0m\u001b[0;34m)\u001b[0m\u001b[0;34m.\u001b[0m\u001b[0mtext\u001b[0m \u001b[0;32mfor\u001b[0m \u001b[0mone_apt\u001b[0m \u001b[0;32min\u001b[0m \u001b[0mapts\u001b[0m\u001b[0;34m[\u001b[0m\u001b[0;34m:\u001b[0m\u001b[0;36m10\u001b[0m\u001b[0;34m]\u001b[0m \u001b[0;32mif\u001b[0m \u001b[0mone_apt\u001b[0m \u001b[0;34m!=\u001b[0m \u001b[0;32mNone\u001b[0m\u001b[0;34m]\u001b[0m\u001b[0;34m\u001b[0m\u001b[0m\n\u001b[0m",
      "\u001b[0;31mAttributeError\u001b[0m: 'NoneType' object has no attribute 'text'"
     ]
    }
   ],
   "source": [
    "info = [one_apt.find(\"span\", attrs={\"class\":\"housing\"}).text for one_apt in apts[:10] if one_apt != None]"
   ]
  },
  {
   "cell_type": "code",
   "execution_count": 181,
   "metadata": {
    "collapsed": false
   },
   "outputs": [
    {
     "data": {
      "text/plain": [
       "['1br', '506ft2']"
      ]
     },
     "execution_count": 181,
     "metadata": {},
     "output_type": "execute_result"
    }
   ],
   "source": [
    "info"
   ]
  },
  {
   "cell_type": "code",
   "execution_count": 129,
   "metadata": {
    "collapsed": false
   },
   "outputs": [
    {
     "ename": "AttributeError",
     "evalue": "'NoneType' object has no attribute 'text'",
     "output_type": "error",
     "traceback": [
      "\u001b[0;31m---------------------------------------------------------------------------\u001b[0m",
      "\u001b[0;31mAttributeError\u001b[0m                            Traceback (most recent call last)",
      "\u001b[0;32m<ipython-input-129-be6ca906940d>\u001b[0m in \u001b[0;36m<module>\u001b[0;34m()\u001b[0m\n\u001b[0;32m----> 1\u001b[0;31m \u001b[0mapts\u001b[0m\u001b[0;34m[\u001b[0m\u001b[0;36m5\u001b[0m\u001b[0;34m]\u001b[0m\u001b[0;34m.\u001b[0m\u001b[0mfind\u001b[0m\u001b[0;34m(\u001b[0m\u001b[0;34m\"span\"\u001b[0m\u001b[0;34m,\u001b[0m \u001b[0mattrs\u001b[0m\u001b[0;34m=\u001b[0m\u001b[0;34m{\u001b[0m\u001b[0;34m\"class\"\u001b[0m\u001b[0;34m:\u001b[0m\u001b[0;34m\"housing\"\u001b[0m\u001b[0;34m}\u001b[0m\u001b[0;34m)\u001b[0m\u001b[0;34m.\u001b[0m\u001b[0mtext\u001b[0m\u001b[0;34m\u001b[0m\u001b[0m\n\u001b[0m",
      "\u001b[0;31mAttributeError\u001b[0m: 'NoneType' object has no attribute 'text'"
     ]
    }
   ],
   "source": [
    "apts[5].find(\"span\", attrs={\"class\":\"housing\"}).text"
   ]
  },
  {
   "cell_type": "code",
   "execution_count": 139,
   "metadata": {
    "collapsed": false
   },
   "outputs": [],
   "source": [
    "if apts[5].find(\"span\", attrs={\"class\":\"housing\"}):\n",
    "    print(\"dasd\")"
   ]
  },
  {
   "cell_type": "code",
   "execution_count": 144,
   "metadata": {
    "collapsed": true
   },
   "outputs": [],
   "source": [
    "bdrm = apts[10].find(\"span\", attrs={\"class\":\"housing\"})"
   ]
  },
  {
   "cell_type": "code",
   "execution_count": 150,
   "metadata": {
    "collapsed": false
   },
   "outputs": [],
   "source": [
    "if bdrm:\n",
    "    info = bdrm.text.replace(\"\\n\", \"\").replace(\"-\",\"\").split()\n",
    "else:\n",
    "    info = None"
   ]
  },
  {
   "cell_type": "code",
   "execution_count": 173,
   "metadata": {
    "collapsed": false
   },
   "outputs": [],
   "source": [
    "import pandas as pd"
   ]
  },
  {
   "cell_type": "code",
   "execution_count": 265,
   "metadata": {
    "collapsed": false
   },
   "outputs": [],
   "source": [
    "from craigslist import CraigslistHousing\n",
    "\n",
    "cl_h = CraigslistHousing(site='sfbay', area='sfc', category='apa'\n",
    "                        )\n",
    "data = pd.DataFrame(cl_h.get_results(limit=30))"
   ]
  },
  {
   "cell_type": "code",
   "execution_count": 268,
   "metadata": {
    "collapsed": false
   },
   "outputs": [
    {
     "data": {
      "text/html": [
       "<div>\n",
       "<table border=\"1\" class=\"dataframe\">\n",
       "  <thead>\n",
       "    <tr style=\"text-align: right;\">\n",
       "      <th></th>\n",
       "      <th>bedrooms</th>\n",
       "      <th>datetime</th>\n",
       "      <th>geotag</th>\n",
       "      <th>has_image</th>\n",
       "      <th>has_map</th>\n",
       "      <th>id</th>\n",
       "      <th>name</th>\n",
       "      <th>price</th>\n",
       "      <th>url</th>\n",
       "      <th>where</th>\n",
       "    </tr>\n",
       "  </thead>\n",
       "  <tbody>\n",
       "    <tr>\n",
       "      <th>0</th>\n",
       "      <td>1br                 1498ft2   ...</td>\n",
       "      <td>2016-09-07 20:10</td>\n",
       "      <td>None</td>\n",
       "      <td>True</td>\n",
       "      <td>True</td>\n",
       "      <td>5771441590</td>\n",
       "      <td>1 large private bedroom &amp; bath in 1500 sq foot...</td>\n",
       "      <td>$2650</td>\n",
       "      <td>http://sfbay.craigslist.org/sfc/apa/5771441590...</td>\n",
       "      <td>potrero hill</td>\n",
       "    </tr>\n",
       "    <tr>\n",
       "      <th>1</th>\n",
       "      <td>2br</td>\n",
       "      <td>2016-09-07 20:09</td>\n",
       "      <td>None</td>\n",
       "      <td>True</td>\n",
       "      <td>True</td>\n",
       "      <td>5759868522</td>\n",
       "      <td>Executive -View Condo</td>\n",
       "      <td>$7500</td>\n",
       "      <td>http://sfbay.craigslist.org/sfc/apa/5759868522...</td>\n",
       "      <td>pacific heights</td>\n",
       "    </tr>\n",
       "    <tr>\n",
       "      <th>2</th>\n",
       "      <td>1br</td>\n",
       "      <td>2016-09-07 20:08</td>\n",
       "      <td>None</td>\n",
       "      <td>False</td>\n",
       "      <td>False</td>\n",
       "      <td>5771427733</td>\n",
       "      <td>TELEGRAPH HILL GRAND VIEW!</td>\n",
       "      <td>$2850</td>\n",
       "      <td>http://sfbay.craigslist.org/sfc/apa/5771427733...</td>\n",
       "      <td>north beach / telegraph hill</td>\n",
       "    </tr>\n",
       "    <tr>\n",
       "      <th>3</th>\n",
       "      <td>2br</td>\n",
       "      <td>2016-09-07 20:07</td>\n",
       "      <td>None</td>\n",
       "      <td>True</td>\n",
       "      <td>True</td>\n",
       "      <td>5771439450</td>\n",
       "      <td>Inner Richmond(Turk/Arguello)Updated 2BR Unit ...</td>\n",
       "      <td>$3375</td>\n",
       "      <td>http://sfbay.craigslist.org/sfc/apa/5771439450...</td>\n",
       "      <td>inner richmond</td>\n",
       "    </tr>\n",
       "    <tr>\n",
       "      <th>4</th>\n",
       "      <td>1br</td>\n",
       "      <td>2016-09-07 20:06</td>\n",
       "      <td>None</td>\n",
       "      <td>True</td>\n",
       "      <td>True</td>\n",
       "      <td>5771438221</td>\n",
       "      <td>New, Clean, Luxury; Walk to AT&amp;T Park, Caltrai...</td>\n",
       "      <td>$1790</td>\n",
       "      <td>http://sfbay.craigslist.org/sfc/apa/5771438221...</td>\n",
       "      <td>SOMA / south beach</td>\n",
       "    </tr>\n",
       "    <tr>\n",
       "      <th>5</th>\n",
       "      <td>None</td>\n",
       "      <td>2016-09-07 20:05</td>\n",
       "      <td>None</td>\n",
       "      <td>True</td>\n",
       "      <td>True</td>\n",
       "      <td>5771437480</td>\n",
       "      <td>Cozy apartment used as a 2 bedroom</td>\n",
       "      <td>$3150</td>\n",
       "      <td>http://sfbay.craigslist.org/sfc/apa/5771437480...</td>\n",
       "      <td>russian hill</td>\n",
       "    </tr>\n",
       "    <tr>\n",
       "      <th>6</th>\n",
       "      <td>1br                 614ft2    ...</td>\n",
       "      <td>2016-09-07 20:04</td>\n",
       "      <td>None</td>\n",
       "      <td>True</td>\n",
       "      <td>True</td>\n",
       "      <td>5771436121</td>\n",
       "      <td>Gorgeous 1-Bedroom Classic SF Apartment in Gre...</td>\n",
       "      <td>$3090</td>\n",
       "      <td>http://sfbay.craigslist.org/sfc/apa/5771436121...</td>\n",
       "      <td>pacific heights</td>\n",
       "    </tr>\n",
       "    <tr>\n",
       "      <th>7</th>\n",
       "      <td>2br                 1403ft2   ...</td>\n",
       "      <td>2016-09-07 20:03</td>\n",
       "      <td>None</td>\n",
       "      <td>True</td>\n",
       "      <td>True</td>\n",
       "      <td>5771425269</td>\n",
       "      <td>PROPERTY FORCE - Gorgeous 2br/2.5ba SOMA Apart...</td>\n",
       "      <td>$4795</td>\n",
       "      <td>http://sfbay.craigslist.org/sfc/apa/5771425269...</td>\n",
       "      <td>SOMA / south beach</td>\n",
       "    </tr>\n",
       "    <tr>\n",
       "      <th>8</th>\n",
       "      <td>2br                 1581ft2   ...</td>\n",
       "      <td>2016-09-07 20:02</td>\n",
       "      <td>None</td>\n",
       "      <td>True</td>\n",
       "      <td>True</td>\n",
       "      <td>5764368519</td>\n",
       "      <td>PENTHOUSE - ONE HAWTHORNE - SPECTACULAR VIEWS ...</td>\n",
       "      <td>$5990</td>\n",
       "      <td>http://sfbay.craigslist.org/sfc/apa/5764368519...</td>\n",
       "      <td>SOMA / south beach</td>\n",
       "    </tr>\n",
       "    <tr>\n",
       "      <th>9</th>\n",
       "      <td>3br</td>\n",
       "      <td>2016-09-07 20:02</td>\n",
       "      <td>None</td>\n",
       "      <td>True</td>\n",
       "      <td>True</td>\n",
       "      <td>5771434524</td>\n",
       "      <td>Single-Family Home w/ Amazing Views in Miralom...</td>\n",
       "      <td>$4400</td>\n",
       "      <td>http://sfbay.craigslist.org/sfc/apa/5771434524...</td>\n",
       "      <td>glen park</td>\n",
       "    </tr>\n",
       "  </tbody>\n",
       "</table>\n",
       "</div>"
      ],
      "text/plain": [
       "                                            bedrooms          datetime geotag  \\\n",
       "0                  1br                 1498ft2   ...  2016-09-07 20:10   None   \n",
       "1                                   2br               2016-09-07 20:09   None   \n",
       "2                                   1br               2016-09-07 20:08   None   \n",
       "3                                   2br               2016-09-07 20:07   None   \n",
       "4                                   1br               2016-09-07 20:06   None   \n",
       "5                                               None  2016-09-07 20:05   None   \n",
       "6                  1br                 614ft2    ...  2016-09-07 20:04   None   \n",
       "7                  2br                 1403ft2   ...  2016-09-07 20:03   None   \n",
       "8                  2br                 1581ft2   ...  2016-09-07 20:02   None   \n",
       "9                                   3br               2016-09-07 20:02   None   \n",
       "\n",
       "  has_image has_map          id  \\\n",
       "0      True    True  5771441590   \n",
       "1      True    True  5759868522   \n",
       "2     False   False  5771427733   \n",
       "3      True    True  5771439450   \n",
       "4      True    True  5771438221   \n",
       "5      True    True  5771437480   \n",
       "6      True    True  5771436121   \n",
       "7      True    True  5771425269   \n",
       "8      True    True  5764368519   \n",
       "9      True    True  5771434524   \n",
       "\n",
       "                                                name  price  \\\n",
       "0  1 large private bedroom & bath in 1500 sq foot...  $2650   \n",
       "1                              Executive -View Condo  $7500   \n",
       "2                         TELEGRAPH HILL GRAND VIEW!  $2850   \n",
       "3  Inner Richmond(Turk/Arguello)Updated 2BR Unit ...  $3375   \n",
       "4  New, Clean, Luxury; Walk to AT&T Park, Caltrai...  $1790   \n",
       "5                 Cozy apartment used as a 2 bedroom  $3150   \n",
       "6  Gorgeous 1-Bedroom Classic SF Apartment in Gre...  $3090   \n",
       "7  PROPERTY FORCE - Gorgeous 2br/2.5ba SOMA Apart...  $4795   \n",
       "8  PENTHOUSE - ONE HAWTHORNE - SPECTACULAR VIEWS ...  $5990   \n",
       "9  Single-Family Home w/ Amazing Views in Miralom...  $4400   \n",
       "\n",
       "                                                 url  \\\n",
       "0  http://sfbay.craigslist.org/sfc/apa/5771441590...   \n",
       "1  http://sfbay.craigslist.org/sfc/apa/5759868522...   \n",
       "2  http://sfbay.craigslist.org/sfc/apa/5771427733...   \n",
       "3  http://sfbay.craigslist.org/sfc/apa/5771439450...   \n",
       "4  http://sfbay.craigslist.org/sfc/apa/5771438221...   \n",
       "5  http://sfbay.craigslist.org/sfc/apa/5771437480...   \n",
       "6  http://sfbay.craigslist.org/sfc/apa/5771436121...   \n",
       "7  http://sfbay.craigslist.org/sfc/apa/5771425269...   \n",
       "8  http://sfbay.craigslist.org/sfc/apa/5764368519...   \n",
       "9  http://sfbay.craigslist.org/sfc/apa/5771434524...   \n",
       "\n",
       "                          where  \n",
       "0                  potrero hill  \n",
       "1               pacific heights  \n",
       "2  north beach / telegraph hill  \n",
       "3                inner richmond  \n",
       "4            SOMA / south beach  \n",
       "5                  russian hill  \n",
       "6               pacific heights  \n",
       "7            SOMA / south beach  \n",
       "8            SOMA / south beach  \n",
       "9                     glen park  "
      ]
     },
     "execution_count": 268,
     "metadata": {},
     "output_type": "execute_result"
    }
   ],
   "source": [
    "data.head(10)"
   ]
  },
  {
   "cell_type": "code",
   "execution_count": 337,
   "metadata": {
    "collapsed": false
   },
   "outputs": [],
   "source": [
    "string  = data.bedrooms[5]"
   ]
  },
  {
   "cell_type": "code",
   "execution_count": 339,
   "metadata": {
    "collapsed": false
   },
   "outputs": [],
   "source": [
    "#[re.findall(\"\\dbr\", string) for string in data.bedrooms]"
   ]
  },
  {
   "cell_type": "code",
   "execution_count": 386,
   "metadata": {
    "collapsed": false
   },
   "outputs": [],
   "source": [
    "bednum = []\n",
    "for string in data.bedrooms:\n",
    "    if string:\n",
    "        num = re.findall(r\"\\dbr\", string)\n",
    "        num = int(num[0].replace(\"br\", \"\"))\n",
    "        bednum.append(num)\n",
    "    else:\n",
    "        bednum.append(None)"
   ]
  },
  {
   "cell_type": "code",
   "execution_count": 391,
   "metadata": {
    "collapsed": false
   },
   "outputs": [],
   "source": [
    "area = []\n",
    "for string in data.bedrooms:\n",
    "    if string:\n",
    "        num = re.findall(r\"\\d{1,6}ft2\", string)\n",
    "        num = int(num[0].replace(\"ft2\", \"\")) if num else None\n",
    "        area.append(num) \n",
    "    else:\n",
    "        area.append(None)"
   ]
  },
  {
   "cell_type": "code",
   "execution_count": 392,
   "metadata": {
    "collapsed": false
   },
   "outputs": [
    {
     "data": {
      "text/plain": [
       "[1498,\n",
       " None,\n",
       " None,\n",
       " None,\n",
       " None,\n",
       " None,\n",
       " 614,\n",
       " 1403,\n",
       " 1581,\n",
       " None,\n",
       " None,\n",
       " 1885,\n",
       " 614,\n",
       " None,\n",
       " 575,\n",
       " None,\n",
       " 874,\n",
       " 1200,\n",
       " 1600,\n",
       " None,\n",
       " 1130,\n",
       " None,\n",
       " None,\n",
       " 1995,\n",
       " None,\n",
       " None,\n",
       " 1400,\n",
       " None,\n",
       " None,\n",
       " None]"
      ]
     },
     "execution_count": 392,
     "metadata": {},
     "output_type": "execute_result"
    }
   ],
   "source": [
    "area"
   ]
  }
 ],
 "metadata": {
  "anaconda-cloud": {},
  "kernelspec": {
   "display_name": "Python [conda root]",
   "language": "python",
   "name": "conda-root-py"
  },
  "language_info": {
   "codemirror_mode": {
    "name": "ipython",
    "version": 3
   },
   "file_extension": ".py",
   "mimetype": "text/x-python",
   "name": "python",
   "nbconvert_exporter": "python",
   "pygments_lexer": "ipython3",
   "version": "3.4.5"
  }
 },
 "nbformat": 4,
 "nbformat_minor": 0
}
