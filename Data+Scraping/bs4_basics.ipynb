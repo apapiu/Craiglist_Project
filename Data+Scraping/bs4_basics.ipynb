{
 "cells": [
  {
   "cell_type": "code",
   "execution_count": 1,
   "metadata": {
    "collapsed": true
   },
   "outputs": [],
   "source": [
    "import requests\n",
    "from bs4 import BeautifulSoup as bs4"
   ]
  },
  {
   "cell_type": "code",
   "execution_count": 2,
   "metadata": {
    "collapsed": false
   },
   "outputs": [],
   "source": [
    "resp = requests.get(\n",
    "    url = \"https://sfbay.craigslist.org/sfc/apa\")"
   ]
  },
  {
   "cell_type": "code",
   "execution_count": 3,
   "metadata": {
    "collapsed": false
   },
   "outputs": [
    {
     "data": {
      "text/plain": [
       "'https://sfbay.craigslist.org/search/sfc/apa'"
      ]
     },
     "execution_count": 3,
     "metadata": {},
     "output_type": "execute_result"
    }
   ],
   "source": [
    "resp.url"
   ]
  },
  {
   "cell_type": "code",
   "execution_count": 4,
   "metadata": {
    "collapsed": true
   },
   "outputs": [],
   "source": [
    "html = bs4(resp.text, \"html.parser\")"
   ]
  },
  {
   "cell_type": "code",
   "execution_count": 5,
   "metadata": {
    "collapsed": false
   },
   "outputs": [
    {
     "name": "stdout",
     "output_type": "stream",
     "text": [
      "﻿\n",
      "<!DOCTYPE html>\n",
      "<html class=\"no-js\">\n",
      " <head>\n",
      "  <title>\n",
      "   SF bay area apartments / housing rentals\n"
     ]
    }
   ],
   "source": [
    "print(html.prettify()[:100])"
   ]
  },
  {
   "cell_type": "code",
   "execution_count": 110,
   "metadata": {
    "collapsed": false
   },
   "outputs": [],
   "source": [
    "apts = html.findAll(\"p\", attrs = {\"class\":\"row\"})"
   ]
  },
  {
   "cell_type": "code",
   "execution_count": 111,
   "metadata": {
    "collapsed": false
   },
   "outputs": [
    {
     "data": {
      "text/plain": [
       "100"
      ]
     },
     "execution_count": 111,
     "metadata": {},
     "output_type": "execute_result"
    }
   ],
   "source": [
    "len(apts)"
   ]
  },
  {
   "cell_type": "code",
   "execution_count": 112,
   "metadata": {
    "collapsed": false
   },
   "outputs": [],
   "source": [
    "one_apt = apts[1]"
   ]
  },
  {
   "cell_type": "code",
   "execution_count": 183,
   "metadata": {
    "collapsed": false
   },
   "outputs": [],
   "source": [
    "apt_info = one_apt.find(\"span\", attrs={\"class\":\"housing\"})"
   ]
  },
  {
   "cell_type": "code",
   "execution_count": 184,
   "metadata": {
    "collapsed": false
   },
   "outputs": [
    {
     "data": {
      "text/plain": [
       "<span class=\"housing\">\n",
       "                2br -\n",
       "                850ft<sup>2</sup> -\n",
       "            </span>"
      ]
     },
     "execution_count": 184,
     "metadata": {},
     "output_type": "execute_result"
    }
   ],
   "source": [
    "apt_info"
   ]
  },
  {
   "cell_type": "code",
   "execution_count": 185,
   "metadata": {
    "collapsed": false
   },
   "outputs": [
    {
     "data": {
      "text/plain": [
       "'\\n                2br -\\n                850ft2 -\\n            '"
      ]
     },
     "execution_count": 185,
     "metadata": {},
     "output_type": "execute_result"
    }
   ],
   "source": [
    "apt_info.text"
   ]
  },
  {
   "cell_type": "code",
   "execution_count": 187,
   "metadata": {
    "collapsed": false
   },
   "outputs": [
    {
     "data": {
      "text/plain": [
       "['2br', '850ft2']"
      ]
     },
     "execution_count": 187,
     "metadata": {},
     "output_type": "execute_result"
    }
   ],
   "source": [
    "apt_info.text.replace(\"\\n\", \"\").replace(\"-\",\"\").split()"
   ]
  },
  {
   "cell_type": "code",
   "execution_count": 84,
   "metadata": {
    "collapsed": false
   },
   "outputs": [
    {
     "data": {
      "text/plain": [
       "<time datetime=\"2016-09-07 12:20\" title=\"Wed 07 Sep 12:20:07 PM\">Sep  7</time>"
      ]
     },
     "execution_count": 84,
     "metadata": {},
     "output_type": "execute_result"
    }
   ],
   "source": [
    "one_apt.find(\"time\")"
   ]
  },
  {
   "cell_type": "code",
   "execution_count": 85,
   "metadata": {
    "collapsed": false
   },
   "outputs": [
    {
     "data": {
      "text/plain": [
       "'2016-09-07 12:20'"
      ]
     },
     "execution_count": 85,
     "metadata": {},
     "output_type": "execute_result"
    }
   ],
   "source": [
    "one_apt.find(\"time\")[\"datetime\"]"
   ]
  },
  {
   "cell_type": "code",
   "execution_count": 86,
   "metadata": {
    "collapsed": false
   },
   "outputs": [
    {
     "data": {
      "text/plain": [
       "'5770748709'"
      ]
     },
     "execution_count": 86,
     "metadata": {},
     "output_type": "execute_result"
    }
   ],
   "source": [
    "one_apt.find(\"a\", attrs={\"class\":\"hdrlnk\"})[\"data-id\"]"
   ]
  },
  {
   "cell_type": "markdown",
   "metadata": {},
   "source": [
    "Maybe we should do the string stuff at the pandas level?"
   ]
  },
  {
   "cell_type": "code",
   "execution_count": 113,
   "metadata": {
    "collapsed": false
   },
   "outputs": [],
   "source": [
    "dates = [one_apt.find(\"time\")[\"datetime\"] for one_apt in apts]"
   ]
  },
  {
   "cell_type": "code",
   "execution_count": 115,
   "metadata": {
    "collapsed": false
   },
   "outputs": [],
   "source": [
    "ids = [one_apt.find(\"a\", attrs={\"class\":\"hdrlnk\"})[\"data-id\"] for one_apt in apts]"
   ]
  },
  {
   "cell_type": "code",
   "execution_count": 139,
   "metadata": {
    "collapsed": false
   },
   "outputs": [],
   "source": [
    "if apts[5].find(\"span\", attrs={\"class\":\"housing\"}):\n",
    "    print(\"dasd\")"
   ]
  },
  {
   "cell_type": "code",
   "execution_count": 144,
   "metadata": {
    "collapsed": true
   },
   "outputs": [],
   "source": [
    "bdrm = apts[10].find(\"span\", attrs={\"class\":\"housing\"})"
   ]
  },
  {
   "cell_type": "code",
   "execution_count": 150,
   "metadata": {
    "collapsed": false
   },
   "outputs": [],
   "source": [
    "if bdrm:\n",
    "    info = bdrm.text.replace(\"\\n\", \"\").replace(\"-\",\"\").split()\n",
    "else:\n",
    "    info = None"
   ]
  },
  {
   "cell_type": "code",
   "execution_count": 173,
   "metadata": {
    "collapsed": false
   },
   "outputs": [],
   "source": [
    "import pandas as pd"
   ]
  },
  {
   "cell_type": "code",
   "execution_count": 265,
   "metadata": {
    "collapsed": false
   },
   "outputs": [],
   "source": [
    "from craigslist import CraigslistHousing\n",
    "\n",
    "cl_h = CraigslistHousing(site='sfbay', area='sfc', category='apa'\n",
    "                        )\n",
    "data = pd.DataFrame(cl_h.get_results(limit=30))"
   ]
  },
  {
   "cell_type": "code",
   "execution_count": 268,
   "metadata": {
    "collapsed": false
   },
   "outputs": [
    {
     "data": {
      "text/html": [
       "<div>\n",
       "<table border=\"1\" class=\"dataframe\">\n",
       "  <thead>\n",
       "    <tr style=\"text-align: right;\">\n",
       "      <th></th>\n",
       "      <th>bedrooms</th>\n",
       "      <th>datetime</th>\n",
       "      <th>geotag</th>\n",
       "      <th>has_image</th>\n",
       "      <th>has_map</th>\n",
       "      <th>id</th>\n",
       "      <th>name</th>\n",
       "      <th>price</th>\n",
       "      <th>url</th>\n",
       "      <th>where</th>\n",
       "    </tr>\n",
       "  </thead>\n",
       "  <tbody>\n",
       "    <tr>\n",
       "      <th>0</th>\n",
       "      <td>1br                 1498ft2   ...</td>\n",
       "      <td>2016-09-07 20:10</td>\n",
       "      <td>None</td>\n",
       "      <td>True</td>\n",
       "      <td>True</td>\n",
       "      <td>5771441590</td>\n",
       "      <td>1 large private bedroom &amp; bath in 1500 sq foot...</td>\n",
       "      <td>$2650</td>\n",
       "      <td>http://sfbay.craigslist.org/sfc/apa/5771441590...</td>\n",
       "      <td>potrero hill</td>\n",
       "    </tr>\n",
       "    <tr>\n",
       "      <th>1</th>\n",
       "      <td>2br</td>\n",
       "      <td>2016-09-07 20:09</td>\n",
       "      <td>None</td>\n",
       "      <td>True</td>\n",
       "      <td>True</td>\n",
       "      <td>5759868522</td>\n",
       "      <td>Executive -View Condo</td>\n",
       "      <td>$7500</td>\n",
       "      <td>http://sfbay.craigslist.org/sfc/apa/5759868522...</td>\n",
       "      <td>pacific heights</td>\n",
       "    </tr>\n",
       "    <tr>\n",
       "      <th>2</th>\n",
       "      <td>1br</td>\n",
       "      <td>2016-09-07 20:08</td>\n",
       "      <td>None</td>\n",
       "      <td>False</td>\n",
       "      <td>False</td>\n",
       "      <td>5771427733</td>\n",
       "      <td>TELEGRAPH HILL GRAND VIEW!</td>\n",
       "      <td>$2850</td>\n",
       "      <td>http://sfbay.craigslist.org/sfc/apa/5771427733...</td>\n",
       "      <td>north beach / telegraph hill</td>\n",
       "    </tr>\n",
       "    <tr>\n",
       "      <th>3</th>\n",
       "      <td>2br</td>\n",
       "      <td>2016-09-07 20:07</td>\n",
       "      <td>None</td>\n",
       "      <td>True</td>\n",
       "      <td>True</td>\n",
       "      <td>5771439450</td>\n",
       "      <td>Inner Richmond(Turk/Arguello)Updated 2BR Unit ...</td>\n",
       "      <td>$3375</td>\n",
       "      <td>http://sfbay.craigslist.org/sfc/apa/5771439450...</td>\n",
       "      <td>inner richmond</td>\n",
       "    </tr>\n",
       "    <tr>\n",
       "      <th>4</th>\n",
       "      <td>1br</td>\n",
       "      <td>2016-09-07 20:06</td>\n",
       "      <td>None</td>\n",
       "      <td>True</td>\n",
       "      <td>True</td>\n",
       "      <td>5771438221</td>\n",
       "      <td>New, Clean, Luxury; Walk to AT&amp;T Park, Caltrai...</td>\n",
       "      <td>$1790</td>\n",
       "      <td>http://sfbay.craigslist.org/sfc/apa/5771438221...</td>\n",
       "      <td>SOMA / south beach</td>\n",
       "    </tr>\n",
       "    <tr>\n",
       "      <th>5</th>\n",
       "      <td>None</td>\n",
       "      <td>2016-09-07 20:05</td>\n",
       "      <td>None</td>\n",
       "      <td>True</td>\n",
       "      <td>True</td>\n",
       "      <td>5771437480</td>\n",
       "      <td>Cozy apartment used as a 2 bedroom</td>\n",
       "      <td>$3150</td>\n",
       "      <td>http://sfbay.craigslist.org/sfc/apa/5771437480...</td>\n",
       "      <td>russian hill</td>\n",
       "    </tr>\n",
       "    <tr>\n",
       "      <th>6</th>\n",
       "      <td>1br                 614ft2    ...</td>\n",
       "      <td>2016-09-07 20:04</td>\n",
       "      <td>None</td>\n",
       "      <td>True</td>\n",
       "      <td>True</td>\n",
       "      <td>5771436121</td>\n",
       "      <td>Gorgeous 1-Bedroom Classic SF Apartment in Gre...</td>\n",
       "      <td>$3090</td>\n",
       "      <td>http://sfbay.craigslist.org/sfc/apa/5771436121...</td>\n",
       "      <td>pacific heights</td>\n",
       "    </tr>\n",
       "    <tr>\n",
       "      <th>7</th>\n",
       "      <td>2br                 1403ft2   ...</td>\n",
       "      <td>2016-09-07 20:03</td>\n",
       "      <td>None</td>\n",
       "      <td>True</td>\n",
       "      <td>True</td>\n",
       "      <td>5771425269</td>\n",
       "      <td>PROPERTY FORCE - Gorgeous 2br/2.5ba SOMA Apart...</td>\n",
       "      <td>$4795</td>\n",
       "      <td>http://sfbay.craigslist.org/sfc/apa/5771425269...</td>\n",
       "      <td>SOMA / south beach</td>\n",
       "    </tr>\n",
       "    <tr>\n",
       "      <th>8</th>\n",
       "      <td>2br                 1581ft2   ...</td>\n",
       "      <td>2016-09-07 20:02</td>\n",
       "      <td>None</td>\n",
       "      <td>True</td>\n",
       "      <td>True</td>\n",
       "      <td>5764368519</td>\n",
       "      <td>PENTHOUSE - ONE HAWTHORNE - SPECTACULAR VIEWS ...</td>\n",
       "      <td>$5990</td>\n",
       "      <td>http://sfbay.craigslist.org/sfc/apa/5764368519...</td>\n",
       "      <td>SOMA / south beach</td>\n",
       "    </tr>\n",
       "    <tr>\n",
       "      <th>9</th>\n",
       "      <td>3br</td>\n",
       "      <td>2016-09-07 20:02</td>\n",
       "      <td>None</td>\n",
       "      <td>True</td>\n",
       "      <td>True</td>\n",
       "      <td>5771434524</td>\n",
       "      <td>Single-Family Home w/ Amazing Views in Miralom...</td>\n",
       "      <td>$4400</td>\n",
       "      <td>http://sfbay.craigslist.org/sfc/apa/5771434524...</td>\n",
       "      <td>glen park</td>\n",
       "    </tr>\n",
       "  </tbody>\n",
       "</table>\n",
       "</div>"
      ],
      "text/plain": [
       "                                            bedrooms          datetime geotag  \\\n",
       "0                  1br                 1498ft2   ...  2016-09-07 20:10   None   \n",
       "1                                   2br               2016-09-07 20:09   None   \n",
       "2                                   1br               2016-09-07 20:08   None   \n",
       "3                                   2br               2016-09-07 20:07   None   \n",
       "4                                   1br               2016-09-07 20:06   None   \n",
       "5                                               None  2016-09-07 20:05   None   \n",
       "6                  1br                 614ft2    ...  2016-09-07 20:04   None   \n",
       "7                  2br                 1403ft2   ...  2016-09-07 20:03   None   \n",
       "8                  2br                 1581ft2   ...  2016-09-07 20:02   None   \n",
       "9                                   3br               2016-09-07 20:02   None   \n",
       "\n",
       "  has_image has_map          id  \\\n",
       "0      True    True  5771441590   \n",
       "1      True    True  5759868522   \n",
       "2     False   False  5771427733   \n",
       "3      True    True  5771439450   \n",
       "4      True    True  5771438221   \n",
       "5      True    True  5771437480   \n",
       "6      True    True  5771436121   \n",
       "7      True    True  5771425269   \n",
       "8      True    True  5764368519   \n",
       "9      True    True  5771434524   \n",
       "\n",
       "                                                name  price  \\\n",
       "0  1 large private bedroom & bath in 1500 sq foot...  $2650   \n",
       "1                              Executive -View Condo  $7500   \n",
       "2                         TELEGRAPH HILL GRAND VIEW!  $2850   \n",
       "3  Inner Richmond(Turk/Arguello)Updated 2BR Unit ...  $3375   \n",
       "4  New, Clean, Luxury; Walk to AT&T Park, Caltrai...  $1790   \n",
       "5                 Cozy apartment used as a 2 bedroom  $3150   \n",
       "6  Gorgeous 1-Bedroom Classic SF Apartment in Gre...  $3090   \n",
       "7  PROPERTY FORCE - Gorgeous 2br/2.5ba SOMA Apart...  $4795   \n",
       "8  PENTHOUSE - ONE HAWTHORNE - SPECTACULAR VIEWS ...  $5990   \n",
       "9  Single-Family Home w/ Amazing Views in Miralom...  $4400   \n",
       "\n",
       "                                                 url  \\\n",
       "0  http://sfbay.craigslist.org/sfc/apa/5771441590...   \n",
       "1  http://sfbay.craigslist.org/sfc/apa/5759868522...   \n",
       "2  http://sfbay.craigslist.org/sfc/apa/5771427733...   \n",
       "3  http://sfbay.craigslist.org/sfc/apa/5771439450...   \n",
       "4  http://sfbay.craigslist.org/sfc/apa/5771438221...   \n",
       "5  http://sfbay.craigslist.org/sfc/apa/5771437480...   \n",
       "6  http://sfbay.craigslist.org/sfc/apa/5771436121...   \n",
       "7  http://sfbay.craigslist.org/sfc/apa/5771425269...   \n",
       "8  http://sfbay.craigslist.org/sfc/apa/5764368519...   \n",
       "9  http://sfbay.craigslist.org/sfc/apa/5771434524...   \n",
       "\n",
       "                          where  \n",
       "0                  potrero hill  \n",
       "1               pacific heights  \n",
       "2  north beach / telegraph hill  \n",
       "3                inner richmond  \n",
       "4            SOMA / south beach  \n",
       "5                  russian hill  \n",
       "6               pacific heights  \n",
       "7            SOMA / south beach  \n",
       "8            SOMA / south beach  \n",
       "9                     glen park  "
      ]
     },
     "execution_count": 268,
     "metadata": {},
     "output_type": "execute_result"
    }
   ],
   "source": [
    "data.head(10)"
   ]
  },
  {
   "cell_type": "code",
   "execution_count": 337,
   "metadata": {
    "collapsed": false
   },
   "outputs": [],
   "source": [
    "string  = data.bedrooms[5]"
   ]
  },
  {
   "cell_type": "code",
   "execution_count": 339,
   "metadata": {
    "collapsed": false
   },
   "outputs": [],
   "source": [
    "#[re.findall(\"\\dbr\", string) for string in data.bedrooms]"
   ]
  },
  {
   "cell_type": "code",
   "execution_count": 386,
   "metadata": {
    "collapsed": false
   },
   "outputs": [],
   "source": [
    "bednum = []\n",
    "for string in data.bedrooms:\n",
    "    if string:\n",
    "        num = re.findall(r\"\\dbr\", string)\n",
    "        num = int(num[0].replace(\"br\", \"\"))\n",
    "        bednum.append(num)\n",
    "    else:\n",
    "        bednum.append(None)"
   ]
  },
  {
   "cell_type": "code",
   "execution_count": 391,
   "metadata": {
    "collapsed": false
   },
   "outputs": [],
   "source": [
    "area = []\n",
    "for string in data.bedrooms:\n",
    "    if string:\n",
    "        num = re.findall(r\"\\d{1,6}ft2\", string)\n",
    "        num = int(num[0].replace(\"ft2\", \"\")) if num else None\n",
    "        area.append(num) \n",
    "    else:\n",
    "        area.append(None)"
   ]
  }
 ],
 "metadata": {
  "anaconda-cloud": {},
  "kernelspec": {
   "display_name": "Python [conda root]",
   "language": "python",
   "name": "conda-root-py"
  },
  "language_info": {
   "codemirror_mode": {
    "name": "ipython",
    "version": 3
   },
   "file_extension": ".py",
   "mimetype": "text/x-python",
   "name": "python",
   "nbconvert_exporter": "python",
   "pygments_lexer": "ipython3",
   "version": "3.5.2"
  }
 },
 "nbformat": 4,
 "nbformat_minor": 0
}
